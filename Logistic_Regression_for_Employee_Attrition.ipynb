{
  "cells": [
    {
      "cell_type": "markdown",
      "id": "c949f49c",
      "metadata": {
        "id": "c949f49c"
      },
      "source": [
        "### Logistic Regression for Classification"
      ]
    },
    {
      "cell_type": "markdown",
      "id": "74ce8141",
      "metadata": {
        "id": "74ce8141"
      },
      "source": [
        "### Why Logistic Regression?\n",
        "\n",
        "Logistic regression is a widely used statistical method for binary classification problems, where the outcome variable is categorical and has only two possible values (in this case, \"Attrition\" or \"No Attrition\"). Logistic regression is particularly suitable for this dataset for the following reasons:\n",
        "\n",
        "1. The dataset contains a binary target variable (Attrition) that I want to predict. Logistic regression is specifically designed for binary classification problems and can efficiently model the probability of an event occurring, which is exactly what I want to do in this case.\n",
        "\n",
        "2. Logistic regression is relatively simple and computationally efficient, which makes it an excellent choice for modeling small-to-medium sized datasets such as this one. It does not require a large number of input variables, and can handle categorical variables as well as numerical variables.\n",
        "\n",
        "Logistic regression is a suitable choice for predicting employee attrition in this dataset because it is a simple, interpretable, and efficient method that can model the probability of a binary event occurring.\n",
        "\n",
        "### Scenario:\n",
        "\n",
        "This task is aimed at predicting the employees attrition (if employee would stay(yes) or leave (No) the organization) based on the past HR data containing 35 (columns) different information about employee."
      ]
    },
    {
      "cell_type": "markdown",
      "id": "76843acd",
      "metadata": {
        "id": "76843acd"
      },
      "source": [
        "Importing required libraries, importing the HR_Analytics.csv data and printing the first 5 rows"
      ]
    },
    {
      "cell_type": "code",
      "execution_count": null,
      "id": "a8afd886",
      "metadata": {
        "id": "a8afd886"
      },
      "outputs": [],
      "source": [
        "# Import the required libraries\n",
        "import pandas as pd\n",
        "import numpy as np\n",
        "from sklearn.linear_model import LogisticRegression\n",
        "from sklearn.model_selection import train_test_split\n",
        "from sklearn.metrics import accuracy_score, confusion_matrix"
      ]
    },
    {
      "cell_type": "code",
      "execution_count": null,
      "id": "5ff403f2",
      "metadata": {
        "id": "5ff403f2",
        "outputId": "bde6a936-072b-4cc7-9732-1f4677883b47"
      },
      "outputs": [
        {
          "data": {
            "text/html": [
              "<div>\n",
              "<style scoped>\n",
              "    .dataframe tbody tr th:only-of-type {\n",
              "        vertical-align: middle;\n",
              "    }\n",
              "\n",
              "    .dataframe tbody tr th {\n",
              "        vertical-align: top;\n",
              "    }\n",
              "\n",
              "    .dataframe thead th {\n",
              "        text-align: right;\n",
              "    }\n",
              "</style>\n",
              "<table border=\"1\" class=\"dataframe\">\n",
              "  <thead>\n",
              "    <tr style=\"text-align: right;\">\n",
              "      <th></th>\n",
              "      <th>Age</th>\n",
              "      <th>Attrition</th>\n",
              "      <th>BusinessTravel</th>\n",
              "      <th>DailyRate</th>\n",
              "      <th>Department</th>\n",
              "      <th>DistanceFromHome</th>\n",
              "      <th>Education</th>\n",
              "      <th>EducationField</th>\n",
              "      <th>EmployeeCount</th>\n",
              "      <th>EmployeeNumber</th>\n",
              "      <th>...</th>\n",
              "      <th>RelationshipSatisfaction</th>\n",
              "      <th>StandardHours</th>\n",
              "      <th>StockOptionLevel</th>\n",
              "      <th>TotalWorkingYears</th>\n",
              "      <th>TrainingTimesLastYear</th>\n",
              "      <th>WorkLifeBalance</th>\n",
              "      <th>YearsAtCompany</th>\n",
              "      <th>YearsInCurrentRole</th>\n",
              "      <th>YearsSinceLastPromotion</th>\n",
              "      <th>YearsWithCurrManager</th>\n",
              "    </tr>\n",
              "  </thead>\n",
              "  <tbody>\n",
              "    <tr>\n",
              "      <th>0</th>\n",
              "      <td>41</td>\n",
              "      <td>Yes</td>\n",
              "      <td>Travel_Rarely</td>\n",
              "      <td>1102</td>\n",
              "      <td>Sales</td>\n",
              "      <td>1</td>\n",
              "      <td>2</td>\n",
              "      <td>Life Sciences</td>\n",
              "      <td>1</td>\n",
              "      <td>1</td>\n",
              "      <td>...</td>\n",
              "      <td>1</td>\n",
              "      <td>80</td>\n",
              "      <td>0</td>\n",
              "      <td>8</td>\n",
              "      <td>0</td>\n",
              "      <td>1</td>\n",
              "      <td>6</td>\n",
              "      <td>4</td>\n",
              "      <td>0</td>\n",
              "      <td>5</td>\n",
              "    </tr>\n",
              "    <tr>\n",
              "      <th>1</th>\n",
              "      <td>49</td>\n",
              "      <td>No</td>\n",
              "      <td>Travel_Frequently</td>\n",
              "      <td>279</td>\n",
              "      <td>Research &amp; Development</td>\n",
              "      <td>8</td>\n",
              "      <td>1</td>\n",
              "      <td>Life Sciences</td>\n",
              "      <td>1</td>\n",
              "      <td>2</td>\n",
              "      <td>...</td>\n",
              "      <td>4</td>\n",
              "      <td>80</td>\n",
              "      <td>1</td>\n",
              "      <td>10</td>\n",
              "      <td>3</td>\n",
              "      <td>3</td>\n",
              "      <td>10</td>\n",
              "      <td>7</td>\n",
              "      <td>1</td>\n",
              "      <td>7</td>\n",
              "    </tr>\n",
              "    <tr>\n",
              "      <th>2</th>\n",
              "      <td>37</td>\n",
              "      <td>Yes</td>\n",
              "      <td>Travel_Rarely</td>\n",
              "      <td>1373</td>\n",
              "      <td>Research &amp; Development</td>\n",
              "      <td>2</td>\n",
              "      <td>2</td>\n",
              "      <td>Other</td>\n",
              "      <td>1</td>\n",
              "      <td>4</td>\n",
              "      <td>...</td>\n",
              "      <td>2</td>\n",
              "      <td>80</td>\n",
              "      <td>0</td>\n",
              "      <td>7</td>\n",
              "      <td>3</td>\n",
              "      <td>3</td>\n",
              "      <td>0</td>\n",
              "      <td>0</td>\n",
              "      <td>0</td>\n",
              "      <td>0</td>\n",
              "    </tr>\n",
              "    <tr>\n",
              "      <th>3</th>\n",
              "      <td>33</td>\n",
              "      <td>No</td>\n",
              "      <td>Travel_Frequently</td>\n",
              "      <td>1392</td>\n",
              "      <td>Research &amp; Development</td>\n",
              "      <td>3</td>\n",
              "      <td>4</td>\n",
              "      <td>Life Sciences</td>\n",
              "      <td>1</td>\n",
              "      <td>5</td>\n",
              "      <td>...</td>\n",
              "      <td>3</td>\n",
              "      <td>80</td>\n",
              "      <td>0</td>\n",
              "      <td>8</td>\n",
              "      <td>3</td>\n",
              "      <td>3</td>\n",
              "      <td>8</td>\n",
              "      <td>7</td>\n",
              "      <td>3</td>\n",
              "      <td>0</td>\n",
              "    </tr>\n",
              "    <tr>\n",
              "      <th>4</th>\n",
              "      <td>27</td>\n",
              "      <td>No</td>\n",
              "      <td>Travel_Rarely</td>\n",
              "      <td>591</td>\n",
              "      <td>Research &amp; Development</td>\n",
              "      <td>2</td>\n",
              "      <td>1</td>\n",
              "      <td>Medical</td>\n",
              "      <td>1</td>\n",
              "      <td>7</td>\n",
              "      <td>...</td>\n",
              "      <td>4</td>\n",
              "      <td>80</td>\n",
              "      <td>1</td>\n",
              "      <td>6</td>\n",
              "      <td>3</td>\n",
              "      <td>3</td>\n",
              "      <td>2</td>\n",
              "      <td>2</td>\n",
              "      <td>2</td>\n",
              "      <td>2</td>\n",
              "    </tr>\n",
              "  </tbody>\n",
              "</table>\n",
              "<p>5 rows × 35 columns</p>\n",
              "</div>"
            ],
            "text/plain": [
              "   Age Attrition     BusinessTravel  DailyRate              Department  \\\n",
              "0   41       Yes      Travel_Rarely       1102                   Sales   \n",
              "1   49        No  Travel_Frequently        279  Research & Development   \n",
              "2   37       Yes      Travel_Rarely       1373  Research & Development   \n",
              "3   33        No  Travel_Frequently       1392  Research & Development   \n",
              "4   27        No      Travel_Rarely        591  Research & Development   \n",
              "\n",
              "   DistanceFromHome  Education EducationField  EmployeeCount  EmployeeNumber  \\\n",
              "0                 1          2  Life Sciences              1               1   \n",
              "1                 8          1  Life Sciences              1               2   \n",
              "2                 2          2          Other              1               4   \n",
              "3                 3          4  Life Sciences              1               5   \n",
              "4                 2          1        Medical              1               7   \n",
              "\n",
              "   ...  RelationshipSatisfaction StandardHours  StockOptionLevel  \\\n",
              "0  ...                         1            80                 0   \n",
              "1  ...                         4            80                 1   \n",
              "2  ...                         2            80                 0   \n",
              "3  ...                         3            80                 0   \n",
              "4  ...                         4            80                 1   \n",
              "\n",
              "   TotalWorkingYears  TrainingTimesLastYear WorkLifeBalance  YearsAtCompany  \\\n",
              "0                  8                      0               1               6   \n",
              "1                 10                      3               3              10   \n",
              "2                  7                      3               3               0   \n",
              "3                  8                      3               3               8   \n",
              "4                  6                      3               3               2   \n",
              "\n",
              "  YearsInCurrentRole  YearsSinceLastPromotion  YearsWithCurrManager  \n",
              "0                  4                        0                     5  \n",
              "1                  7                        1                     7  \n",
              "2                  0                        0                     0  \n",
              "3                  7                        3                     0  \n",
              "4                  2                        2                     2  \n",
              "\n",
              "[5 rows x 35 columns]"
            ]
          },
          "execution_count": 15,
          "metadata": {},
          "output_type": "execute_result"
        }
      ],
      "source": [
        "data = pd.read_csv(\"HR_Analytics.csv\")\n",
        "data.head(5)"
      ]
    },
    {
      "cell_type": "markdown",
      "id": "8005115a",
      "metadata": {
        "id": "8005115a"
      },
      "source": [
        "This shows that there are 35 columns in the dataset. Next, I am checking the total number of roles in the data and select columns that are relevant for the classification model"
      ]
    },
    {
      "cell_type": "code",
      "execution_count": null,
      "id": "27152699",
      "metadata": {
        "id": "27152699",
        "outputId": "016ae729-3517-452d-cc8a-3e8c61562b58"
      },
      "outputs": [
        {
          "data": {
            "text/plain": [
              "1470"
            ]
          },
          "execution_count": 16,
          "metadata": {},
          "output_type": "execute_result"
        }
      ],
      "source": [
        "len(data)"
      ]
    },
    {
      "cell_type": "code",
      "execution_count": null,
      "id": "fc21a19d",
      "metadata": {
        "id": "fc21a19d"
      },
      "outputs": [],
      "source": [
        "# Select the relevant features for the classification model\n",
        "features = ['Age', 'BusinessTravel', 'DailyRate', 'Department', 'DistanceFromHome',\n",
        "            'Education', 'EducationField', 'EnvironmentSatisfaction', 'Gender', 'HourlyRate',\n",
        "            'JobInvolvement', 'JobLevel', 'JobRole', 'JobSatisfaction', 'MaritalStatus',\n",
        "            'MonthlyIncome', 'MonthlyRate', 'NumCompaniesWorked', 'OverTime', 'PercentSalaryHike',\n",
        "            'PerformanceRating', 'RelationshipSatisfaction', 'StockOptionLevel', 'TotalWorkingYears',\n",
        "            'TrainingTimesLastYear', 'WorkLifeBalance', 'YearsAtCompany', 'YearsInCurrentRole',\n",
        "            'YearsSinceLastPromotion', 'YearsWithCurrManager']"
      ]
    },
    {
      "cell_type": "markdown",
      "id": "b547abb1",
      "metadata": {
        "id": "b547abb1"
      },
      "source": [
        "Here, I intend to separate the relevant data from the entire data by creating a new that that will contain only the selected columns, and also add my target variable (Attrition) to the new data. Then I will print the first few rows to see what the data looks like."
      ]
    },
    {
      "cell_type": "code",
      "execution_count": null,
      "id": "32f4b580",
      "metadata": {
        "id": "32f4b580",
        "outputId": "2716ab41-5c4f-4c64-acfb-4628ac47bb82"
      },
      "outputs": [
        {
          "data": {
            "text/html": [
              "<div>\n",
              "<style scoped>\n",
              "    .dataframe tbody tr th:only-of-type {\n",
              "        vertical-align: middle;\n",
              "    }\n",
              "\n",
              "    .dataframe tbody tr th {\n",
              "        vertical-align: top;\n",
              "    }\n",
              "\n",
              "    .dataframe thead th {\n",
              "        text-align: right;\n",
              "    }\n",
              "</style>\n",
              "<table border=\"1\" class=\"dataframe\">\n",
              "  <thead>\n",
              "    <tr style=\"text-align: right;\">\n",
              "      <th></th>\n",
              "      <th>Age</th>\n",
              "      <th>BusinessTravel</th>\n",
              "      <th>DailyRate</th>\n",
              "      <th>Department</th>\n",
              "      <th>DistanceFromHome</th>\n",
              "      <th>Education</th>\n",
              "      <th>EducationField</th>\n",
              "      <th>EnvironmentSatisfaction</th>\n",
              "      <th>Gender</th>\n",
              "      <th>HourlyRate</th>\n",
              "      <th>...</th>\n",
              "      <th>RelationshipSatisfaction</th>\n",
              "      <th>StockOptionLevel</th>\n",
              "      <th>TotalWorkingYears</th>\n",
              "      <th>TrainingTimesLastYear</th>\n",
              "      <th>WorkLifeBalance</th>\n",
              "      <th>YearsAtCompany</th>\n",
              "      <th>YearsInCurrentRole</th>\n",
              "      <th>YearsSinceLastPromotion</th>\n",
              "      <th>YearsWithCurrManager</th>\n",
              "      <th>Attrition</th>\n",
              "    </tr>\n",
              "  </thead>\n",
              "  <tbody>\n",
              "    <tr>\n",
              "      <th>0</th>\n",
              "      <td>41</td>\n",
              "      <td>Travel_Rarely</td>\n",
              "      <td>1102</td>\n",
              "      <td>Sales</td>\n",
              "      <td>1</td>\n",
              "      <td>2</td>\n",
              "      <td>Life Sciences</td>\n",
              "      <td>2</td>\n",
              "      <td>Female</td>\n",
              "      <td>94</td>\n",
              "      <td>...</td>\n",
              "      <td>1</td>\n",
              "      <td>0</td>\n",
              "      <td>8</td>\n",
              "      <td>0</td>\n",
              "      <td>1</td>\n",
              "      <td>6</td>\n",
              "      <td>4</td>\n",
              "      <td>0</td>\n",
              "      <td>5</td>\n",
              "      <td>Yes</td>\n",
              "    </tr>\n",
              "    <tr>\n",
              "      <th>1</th>\n",
              "      <td>49</td>\n",
              "      <td>Travel_Frequently</td>\n",
              "      <td>279</td>\n",
              "      <td>Research &amp; Development</td>\n",
              "      <td>8</td>\n",
              "      <td>1</td>\n",
              "      <td>Life Sciences</td>\n",
              "      <td>3</td>\n",
              "      <td>Male</td>\n",
              "      <td>61</td>\n",
              "      <td>...</td>\n",
              "      <td>4</td>\n",
              "      <td>1</td>\n",
              "      <td>10</td>\n",
              "      <td>3</td>\n",
              "      <td>3</td>\n",
              "      <td>10</td>\n",
              "      <td>7</td>\n",
              "      <td>1</td>\n",
              "      <td>7</td>\n",
              "      <td>No</td>\n",
              "    </tr>\n",
              "    <tr>\n",
              "      <th>2</th>\n",
              "      <td>37</td>\n",
              "      <td>Travel_Rarely</td>\n",
              "      <td>1373</td>\n",
              "      <td>Research &amp; Development</td>\n",
              "      <td>2</td>\n",
              "      <td>2</td>\n",
              "      <td>Other</td>\n",
              "      <td>4</td>\n",
              "      <td>Male</td>\n",
              "      <td>92</td>\n",
              "      <td>...</td>\n",
              "      <td>2</td>\n",
              "      <td>0</td>\n",
              "      <td>7</td>\n",
              "      <td>3</td>\n",
              "      <td>3</td>\n",
              "      <td>0</td>\n",
              "      <td>0</td>\n",
              "      <td>0</td>\n",
              "      <td>0</td>\n",
              "      <td>Yes</td>\n",
              "    </tr>\n",
              "    <tr>\n",
              "      <th>3</th>\n",
              "      <td>33</td>\n",
              "      <td>Travel_Frequently</td>\n",
              "      <td>1392</td>\n",
              "      <td>Research &amp; Development</td>\n",
              "      <td>3</td>\n",
              "      <td>4</td>\n",
              "      <td>Life Sciences</td>\n",
              "      <td>4</td>\n",
              "      <td>Female</td>\n",
              "      <td>56</td>\n",
              "      <td>...</td>\n",
              "      <td>3</td>\n",
              "      <td>0</td>\n",
              "      <td>8</td>\n",
              "      <td>3</td>\n",
              "      <td>3</td>\n",
              "      <td>8</td>\n",
              "      <td>7</td>\n",
              "      <td>3</td>\n",
              "      <td>0</td>\n",
              "      <td>No</td>\n",
              "    </tr>\n",
              "    <tr>\n",
              "      <th>4</th>\n",
              "      <td>27</td>\n",
              "      <td>Travel_Rarely</td>\n",
              "      <td>591</td>\n",
              "      <td>Research &amp; Development</td>\n",
              "      <td>2</td>\n",
              "      <td>1</td>\n",
              "      <td>Medical</td>\n",
              "      <td>1</td>\n",
              "      <td>Male</td>\n",
              "      <td>40</td>\n",
              "      <td>...</td>\n",
              "      <td>4</td>\n",
              "      <td>1</td>\n",
              "      <td>6</td>\n",
              "      <td>3</td>\n",
              "      <td>3</td>\n",
              "      <td>2</td>\n",
              "      <td>2</td>\n",
              "      <td>2</td>\n",
              "      <td>2</td>\n",
              "      <td>No</td>\n",
              "    </tr>\n",
              "  </tbody>\n",
              "</table>\n",
              "<p>5 rows × 31 columns</p>\n",
              "</div>"
            ],
            "text/plain": [
              "   Age     BusinessTravel  DailyRate              Department  \\\n",
              "0   41      Travel_Rarely       1102                   Sales   \n",
              "1   49  Travel_Frequently        279  Research & Development   \n",
              "2   37      Travel_Rarely       1373  Research & Development   \n",
              "3   33  Travel_Frequently       1392  Research & Development   \n",
              "4   27      Travel_Rarely        591  Research & Development   \n",
              "\n",
              "   DistanceFromHome  Education EducationField  EnvironmentSatisfaction  \\\n",
              "0                 1          2  Life Sciences                        2   \n",
              "1                 8          1  Life Sciences                        3   \n",
              "2                 2          2          Other                        4   \n",
              "3                 3          4  Life Sciences                        4   \n",
              "4                 2          1        Medical                        1   \n",
              "\n",
              "   Gender  HourlyRate  ...  RelationshipSatisfaction  StockOptionLevel  \\\n",
              "0  Female          94  ...                         1                 0   \n",
              "1    Male          61  ...                         4                 1   \n",
              "2    Male          92  ...                         2                 0   \n",
              "3  Female          56  ...                         3                 0   \n",
              "4    Male          40  ...                         4                 1   \n",
              "\n",
              "  TotalWorkingYears  TrainingTimesLastYear WorkLifeBalance  YearsAtCompany  \\\n",
              "0                 8                      0               1               6   \n",
              "1                10                      3               3              10   \n",
              "2                 7                      3               3               0   \n",
              "3                 8                      3               3               8   \n",
              "4                 6                      3               3               2   \n",
              "\n",
              "   YearsInCurrentRole  YearsSinceLastPromotion YearsWithCurrManager  Attrition  \n",
              "0                   4                        0                    5        Yes  \n",
              "1                   7                        1                    7         No  \n",
              "2                   0                        0                    0        Yes  \n",
              "3                   7                        3                    0         No  \n",
              "4                   2                        2                    2         No  \n",
              "\n",
              "[5 rows x 31 columns]"
            ]
          },
          "execution_count": 18,
          "metadata": {},
          "output_type": "execute_result"
        }
      ],
      "source": [
        "# Create a dataframe with the selected features and the target variable\n",
        "data = data[features + ['Attrition']]\n",
        "data.head()"
      ]
    },
    {
      "cell_type": "markdown",
      "id": "38bf3117",
      "metadata": {
        "id": "38bf3117"
      },
      "source": [
        "Next thing is to convert the non-numeric (categorical) features such as BusinessTravel, Department, EducationField e.t.c into numeric values, including attrition. I printed the new data to see that the data has been converted. The panda's 'get_dummies' uses One-hot encoding by default. this type of encoding transpose rows category into columns leading to more number of columns. By printing the first few rows, the number of columns must have increased from 31. Scroll to the last column, it has changed yes to 1 and No to 0 for attrition column."
      ]
    },
    {
      "cell_type": "code",
      "execution_count": null,
      "id": "5078dd0c",
      "metadata": {
        "id": "5078dd0c",
        "outputId": "e0249faf-4ae3-4155-b7aa-86aa322cc3ff"
      },
      "outputs": [
        {
          "data": {
            "text/html": [
              "<div>\n",
              "<style scoped>\n",
              "    .dataframe tbody tr th:only-of-type {\n",
              "        vertical-align: middle;\n",
              "    }\n",
              "\n",
              "    .dataframe tbody tr th {\n",
              "        vertical-align: top;\n",
              "    }\n",
              "\n",
              "    .dataframe thead th {\n",
              "        text-align: right;\n",
              "    }\n",
              "</style>\n",
              "<table border=\"1\" class=\"dataframe\">\n",
              "  <thead>\n",
              "    <tr style=\"text-align: right;\">\n",
              "      <th></th>\n",
              "      <th>Age</th>\n",
              "      <th>DailyRate</th>\n",
              "      <th>DistanceFromHome</th>\n",
              "      <th>Education</th>\n",
              "      <th>EnvironmentSatisfaction</th>\n",
              "      <th>HourlyRate</th>\n",
              "      <th>JobInvolvement</th>\n",
              "      <th>JobLevel</th>\n",
              "      <th>JobSatisfaction</th>\n",
              "      <th>MonthlyIncome</th>\n",
              "      <th>...</th>\n",
              "      <th>JobRole_Manager</th>\n",
              "      <th>JobRole_Manufacturing Director</th>\n",
              "      <th>JobRole_Research Director</th>\n",
              "      <th>JobRole_Research Scientist</th>\n",
              "      <th>JobRole_Sales Executive</th>\n",
              "      <th>JobRole_Sales Representative</th>\n",
              "      <th>MaritalStatus_Married</th>\n",
              "      <th>MaritalStatus_Single</th>\n",
              "      <th>OverTime_Yes</th>\n",
              "      <th>Attrition_Yes</th>\n",
              "    </tr>\n",
              "  </thead>\n",
              "  <tbody>\n",
              "    <tr>\n",
              "      <th>0</th>\n",
              "      <td>41</td>\n",
              "      <td>1102</td>\n",
              "      <td>1</td>\n",
              "      <td>2</td>\n",
              "      <td>2</td>\n",
              "      <td>94</td>\n",
              "      <td>3</td>\n",
              "      <td>2</td>\n",
              "      <td>4</td>\n",
              "      <td>5993</td>\n",
              "      <td>...</td>\n",
              "      <td>0</td>\n",
              "      <td>0</td>\n",
              "      <td>0</td>\n",
              "      <td>0</td>\n",
              "      <td>1</td>\n",
              "      <td>0</td>\n",
              "      <td>0</td>\n",
              "      <td>1</td>\n",
              "      <td>1</td>\n",
              "      <td>1</td>\n",
              "    </tr>\n",
              "    <tr>\n",
              "      <th>1</th>\n",
              "      <td>49</td>\n",
              "      <td>279</td>\n",
              "      <td>8</td>\n",
              "      <td>1</td>\n",
              "      <td>3</td>\n",
              "      <td>61</td>\n",
              "      <td>2</td>\n",
              "      <td>2</td>\n",
              "      <td>2</td>\n",
              "      <td>5130</td>\n",
              "      <td>...</td>\n",
              "      <td>0</td>\n",
              "      <td>0</td>\n",
              "      <td>0</td>\n",
              "      <td>1</td>\n",
              "      <td>0</td>\n",
              "      <td>0</td>\n",
              "      <td>1</td>\n",
              "      <td>0</td>\n",
              "      <td>0</td>\n",
              "      <td>0</td>\n",
              "    </tr>\n",
              "    <tr>\n",
              "      <th>2</th>\n",
              "      <td>37</td>\n",
              "      <td>1373</td>\n",
              "      <td>2</td>\n",
              "      <td>2</td>\n",
              "      <td>4</td>\n",
              "      <td>92</td>\n",
              "      <td>2</td>\n",
              "      <td>1</td>\n",
              "      <td>3</td>\n",
              "      <td>2090</td>\n",
              "      <td>...</td>\n",
              "      <td>0</td>\n",
              "      <td>0</td>\n",
              "      <td>0</td>\n",
              "      <td>0</td>\n",
              "      <td>0</td>\n",
              "      <td>0</td>\n",
              "      <td>0</td>\n",
              "      <td>1</td>\n",
              "      <td>1</td>\n",
              "      <td>1</td>\n",
              "    </tr>\n",
              "    <tr>\n",
              "      <th>3</th>\n",
              "      <td>33</td>\n",
              "      <td>1392</td>\n",
              "      <td>3</td>\n",
              "      <td>4</td>\n",
              "      <td>4</td>\n",
              "      <td>56</td>\n",
              "      <td>3</td>\n",
              "      <td>1</td>\n",
              "      <td>3</td>\n",
              "      <td>2909</td>\n",
              "      <td>...</td>\n",
              "      <td>0</td>\n",
              "      <td>0</td>\n",
              "      <td>0</td>\n",
              "      <td>1</td>\n",
              "      <td>0</td>\n",
              "      <td>0</td>\n",
              "      <td>1</td>\n",
              "      <td>0</td>\n",
              "      <td>1</td>\n",
              "      <td>0</td>\n",
              "    </tr>\n",
              "    <tr>\n",
              "      <th>4</th>\n",
              "      <td>27</td>\n",
              "      <td>591</td>\n",
              "      <td>2</td>\n",
              "      <td>1</td>\n",
              "      <td>1</td>\n",
              "      <td>40</td>\n",
              "      <td>3</td>\n",
              "      <td>1</td>\n",
              "      <td>2</td>\n",
              "      <td>3468</td>\n",
              "      <td>...</td>\n",
              "      <td>0</td>\n",
              "      <td>0</td>\n",
              "      <td>0</td>\n",
              "      <td>0</td>\n",
              "      <td>0</td>\n",
              "      <td>0</td>\n",
              "      <td>1</td>\n",
              "      <td>0</td>\n",
              "      <td>0</td>\n",
              "      <td>0</td>\n",
              "    </tr>\n",
              "  </tbody>\n",
              "</table>\n",
              "<p>5 rows × 45 columns</p>\n",
              "</div>"
            ],
            "text/plain": [
              "   Age  DailyRate  DistanceFromHome  Education  EnvironmentSatisfaction  \\\n",
              "0   41       1102                 1          2                        2   \n",
              "1   49        279                 8          1                        3   \n",
              "2   37       1373                 2          2                        4   \n",
              "3   33       1392                 3          4                        4   \n",
              "4   27        591                 2          1                        1   \n",
              "\n",
              "   HourlyRate  JobInvolvement  JobLevel  JobSatisfaction  MonthlyIncome  ...  \\\n",
              "0          94               3         2                4           5993  ...   \n",
              "1          61               2         2                2           5130  ...   \n",
              "2          92               2         1                3           2090  ...   \n",
              "3          56               3         1                3           2909  ...   \n",
              "4          40               3         1                2           3468  ...   \n",
              "\n",
              "   JobRole_Manager  JobRole_Manufacturing Director  JobRole_Research Director  \\\n",
              "0                0                               0                          0   \n",
              "1                0                               0                          0   \n",
              "2                0                               0                          0   \n",
              "3                0                               0                          0   \n",
              "4                0                               0                          0   \n",
              "\n",
              "   JobRole_Research Scientist  JobRole_Sales Executive  \\\n",
              "0                           0                        1   \n",
              "1                           1                        0   \n",
              "2                           0                        0   \n",
              "3                           1                        0   \n",
              "4                           0                        0   \n",
              "\n",
              "   JobRole_Sales Representative  MaritalStatus_Married  MaritalStatus_Single  \\\n",
              "0                             0                      0                     1   \n",
              "1                             0                      1                     0   \n",
              "2                             0                      0                     1   \n",
              "3                             0                      1                     0   \n",
              "4                             0                      1                     0   \n",
              "\n",
              "   OverTime_Yes  Attrition_Yes  \n",
              "0             1              1  \n",
              "1             0              0  \n",
              "2             1              1  \n",
              "3             1              0  \n",
              "4             0              0  \n",
              "\n",
              "[5 rows x 45 columns]"
            ]
          },
          "execution_count": 19,
          "metadata": {},
          "output_type": "execute_result"
        }
      ],
      "source": [
        "# Convert categorical variables into dummy variables\n",
        "data = pd.get_dummies(data, drop_first=True)\n",
        "data.head()"
      ]
    },
    {
      "cell_type": "markdown",
      "id": "a2584224",
      "metadata": {
        "id": "a2584224"
      },
      "source": [
        "Preparing dataset for the model. Separating the data to train (70%) and test (20%). X_train and X_test denotes inputs variables data (Every other columns except attrition) for training and testing while y_train and y_test are target variables data for training and testing respectively. The random_state is to lock the process, that is running the codes again will not produce a different result, it could be any number."
      ]
    },
    {
      "cell_type": "code",
      "execution_count": null,
      "id": "9c0209bd",
      "metadata": {
        "id": "9c0209bd"
      },
      "outputs": [],
      "source": [
        "# Split the data into training and testing sets\n",
        "X_train, X_test, y_train, y_test = train_test_split(data.drop('Attrition_Yes', axis=1),\n",
        "                                                    data['Attrition_Yes'],\n",
        "                                                    test_size=0.2, random_state=42)"
      ]
    },
    {
      "cell_type": "markdown",
      "id": "492340e1",
      "metadata": {
        "id": "492340e1"
      },
      "source": [
        "Testing and fitting the logistic regression"
      ]
    },
    {
      "cell_type": "code",
      "execution_count": null,
      "id": "5868017c",
      "metadata": {
        "id": "5868017c"
      },
      "outputs": [],
      "source": [
        "# Create a logistic regression model\n",
        "logreg = LogisticRegression()"
      ]
    },
    {
      "cell_type": "code",
      "execution_count": null,
      "id": "f8b9bc7d",
      "metadata": {
        "id": "f8b9bc7d",
        "outputId": "ccc1cd4a-c92c-43d6-c94b-821958bffcce"
      },
      "outputs": [
        {
          "name": "stderr",
          "output_type": "stream",
          "text": [
            "/opt/anaconda3/lib/python3.9/site-packages/sklearn/linear_model/_logistic.py:763: ConvergenceWarning: lbfgs failed to converge (status=1):\n",
            "STOP: TOTAL NO. of ITERATIONS REACHED LIMIT.\n",
            "\n",
            "Increase the number of iterations (max_iter) or scale the data as shown in:\n",
            "    https://scikit-learn.org/stable/modules/preprocessing.html\n",
            "Please also refer to the documentation for alternative solver options:\n",
            "    https://scikit-learn.org/stable/modules/linear_model.html#logistic-regression\n",
            "  n_iter_i = _check_optimize_result(\n"
          ]
        },
        {
          "data": {
            "text/plain": [
              "LogisticRegression()"
            ]
          },
          "execution_count": 22,
          "metadata": {},
          "output_type": "execute_result"
        }
      ],
      "source": [
        "# Train the model on the training data\n",
        "logreg.fit(X_train, y_train)"
      ]
    },
    {
      "cell_type": "code",
      "execution_count": null,
      "id": "e93f03cb",
      "metadata": {
        "id": "e93f03cb"
      },
      "outputs": [],
      "source": [
        "# Predict the target variable on the testing data\n",
        "y_pred = logreg.predict(X_test)"
      ]
    },
    {
      "cell_type": "markdown",
      "id": "a0eeeabf",
      "metadata": {
        "id": "a0eeeabf"
      },
      "source": [
        "Evaluating the model performance using accuracy and confusion matrix."
      ]
    },
    {
      "cell_type": "code",
      "execution_count": null,
      "id": "7e45f692",
      "metadata": {
        "id": "7e45f692"
      },
      "outputs": [],
      "source": [
        "# Evaluate the performance of the model\n",
        "accuracy = accuracy_score(y_test, y_pred)\n",
        "confusion_mat = confusion_matrix(y_test, y_pred)"
      ]
    },
    {
      "cell_type": "code",
      "execution_count": null,
      "id": "73599114",
      "metadata": {
        "id": "73599114",
        "outputId": "f5ae65aa-d384-4d1e-8701-009102e6b5ce"
      },
      "outputs": [
        {
          "name": "stdout",
          "output_type": "stream",
          "text": [
            "Accuracy: 0.8639455782312925\n",
            "Confusion Matrix:\n",
            " [[253   2]\n",
            " [ 38   1]]\n"
          ]
        }
      ],
      "source": [
        "print(\"Accuracy:\", accuracy)\n",
        "print(\"Confusion Matrix:\\n\", confusion_mat)"
      ]
    },
    {
      "cell_type": "markdown",
      "id": "c3a7ffe4",
      "metadata": {
        "id": "c3a7ffe4"
      },
      "source": [
        "Visualizing the confusion matrix."
      ]
    },
    {
      "cell_type": "code",
      "execution_count": null,
      "id": "5e6d0bcf",
      "metadata": {
        "id": "5e6d0bcf",
        "outputId": "b3c3b00f-5fdc-4715-9712-16be2ad5fb99"
      },
      "outputs": [
        {
          "data": {
            "image/png": "[encoded data removed]",
            "text/plain": [
              "<Figure size 432x288 with 2 Axes>"
            ]
          },
          "metadata": {
            "needs_background": "light"
          },
          "output_type": "display_data"
        }
      ],
      "source": [
        "# Import the required libraries\n",
        "import seaborn as sns\n",
        "import matplotlib.pyplot as plt\n",
        "\n",
        "# Plot the confusion matrix as a heatmap\n",
        "sns.heatmap(confusion_mat, annot=True, cmap='Blues', fmt='g')\n",
        "\n",
        "# Add labels and title to the plot\n",
        "plt.xlabel('Predicted')\n",
        "plt.ylabel('Actual')\n",
        "plt.title('Confusion Matrix')\n",
        "plt.show()\n"
      ]
    },
    {
      "cell_type": "code",
      "execution_count": null,
      "id": "d3e5b15a",
      "metadata": {
        "id": "d3e5b15a",
        "outputId": "95b44025-c713-4a25-812e-faff3d54c490"
      },
      "outputs": [
        {
          "name": "stdout",
          "output_type": "stream",
          "text": [
            "Total number of data used to train the model: 1176\n",
            "Total number of data used to test the model: 294\n"
          ]
        }
      ],
      "source": [
        "old = len (y_train)\n",
        "new = len(y_test)\n",
        "print(\"Total number of data used to train the model:\", old)\n",
        "print(\"Total number of data used to test the model:\", new)"
      ]
    },
    {
      "cell_type": "markdown",
      "id": "bdfdf9cd",
      "metadata": {
        "id": "bdfdf9cd"
      },
      "source": [
        "The 20% of the total data was splitted and used 70% to train. The number of observations from the confusion matrix is 253+2+38+1=294"
      ]
    },
    {
      "cell_type": "markdown",
      "id": "5c3f16eb",
      "metadata": {
        "id": "5c3f16eb"
      },
      "source": [
        "#### Explanation\n",
        "The confusion matrix above is a 2x2 matrix that shows the following:\n",
        "\n",
        "The top-left cell represents the number of true negatives (TN), which is the number of employees who were correctly predicted to not have attrition. In this case, the number of true negatives is 253.\n",
        "\n",
        "The top-right cell represents the number of false positives (FP), which is the number of employees who were predicted to have attrition but actually did not. In this case, the number of false positives is 2.\n",
        "\n",
        "The bottom-left cell represents the number of false negatives (FN), which is the number of employees who were predicted to not have attrition but actually did. In this case, the number of false negatives is 38.\n",
        "\n",
        "The bottom-right cell represents the number of true positives (TP), which is the number of employees who were correctly predicted to have attrition. In this case, the number of true positives is 1.\n",
        "\n",
        "In summary, the confusion matrix shows that the logistic regression model correctly predicted that 253 employees did not have attrition (true negatives) and correctly predicted that only 1 employee had attrition (true positives). However, the model also made 2 false positive predictions (employees who were predicted to have attrition but actually did not) and 38 false negative predictions (employees who were predicted to not have attrition but actually did).\n"
      ]
    },
    {
      "cell_type": "markdown",
      "id": "23f7d8a5",
      "metadata": {
        "id": "23f7d8a5"
      },
      "source": [
        "##### Other relevant visualizations to evaluate the model performance"
      ]
    },
    {
      "cell_type": "code",
      "execution_count": null,
      "id": "2ddd5527",
      "metadata": {
        "id": "2ddd5527"
      },
      "outputs": [],
      "source": [
        "import numpy as np\n",
        "from sklearn.metrics import roc_curve, precision_recall_curve, auc\n",
        "from sklearn.inspection import permutation_importance"
      ]
    },
    {
      "cell_type": "markdown",
      "id": "2bb41af3",
      "metadata": {
        "id": "2bb41af3"
      },
      "source": [
        "The chart below is a class distribution plot that compares the frequency of predicted and actual class labels in the test data. The interpretation is similar to confusion matrix. The bars shows the frequency and the extent at which the model is accurate, for the left bar shows that the blue at the top is what remains for the model to accurately predict the (no attrition), while the right bar shows that it accurately pridict yes (attrition)."
      ]
    },
    {
      "cell_type": "code",
      "execution_count": null,
      "id": "aa6bc279",
      "metadata": {
        "id": "aa6bc279",
        "outputId": "3f5a3830-e50b-470e-9d4c-c8fbb6ea2cef"
      },
      "outputs": [
        {
          "data": {
            "image/png": "[encoded data removed]",
            "text/plain": [
              "<Figure size 432x288 with 1 Axes>"
            ]
          },
          "metadata": {
            "needs_background": "light"
          },
          "output_type": "display_data"
        }
      ],
      "source": [
        "# Plot the class distribution plot\n",
        "sns.histplot(data=y_pred, kde=False, color='blue', label='Predicted')\n",
        "sns.histplot(data=y_test, kde=False, color='gray', label='Actual')\n",
        "plt.xlabel('Class Label')\n",
        "plt.ylabel('Frequency')\n",
        "plt.title('Class Distribution Plot')\n",
        "plt.legend(loc='upper right')\n",
        "plt.show()"
      ]
    },
    {
      "cell_type": "markdown",
      "id": "6ef5f526",
      "metadata": {
        "id": "6ef5f526"
      },
      "source": [
        "The chart below shows the important features that determines the employee attrition"
      ]
    },
    {
      "cell_type": "code",
      "execution_count": null,
      "id": "932b745f",
      "metadata": {
        "id": "932b745f",
        "outputId": "ca365778-12b5-473d-cbd4-305acf2efe69"
      },
      "outputs": [
        {
          "data": {
            "image/png": "[encoded data removed]",
            "text/plain": [
              "<Figure size 576x1080 with 1 Axes>"
            ]
          },
          "metadata": {
            "needs_background": "light"
          },
          "output_type": "display_data"
        }
      ],
      "source": [
        "# Plot the feature importance plot\n",
        "importances = permutation_importance(logreg, X_test, y_test)\n",
        "sorted_idx = importances.importances_mean.argsort()\n",
        "plt.figure(figsize=(8, 15))\n",
        "plt.barh(range(X_test.shape[1]), importances.importances_mean[sorted_idx])\n",
        "plt.yticks(range(X_test.shape[1]), X_test.columns[sorted_idx])\n",
        "plt.xlabel('Importance')\n",
        "plt.title('Feature Importance Plot')\n",
        "plt.show()"
      ]
    },
    {
      "cell_type": "markdown",
      "id": "52444a69",
      "metadata": {
        "id": "52444a69"
      },
      "source": [
        "The chart below is the decision boundary plot that can provide HR managers with insights on identifying the possibility of employee attrition. The chart indicates that while almost all the employee is likely to leave (0), the predicted to stay (1) would be employee with working years between 5 to 7 and monthly inclome around 2,500."
      ]
    },
    {
      "cell_type": "code",
      "execution_count": null,
      "id": "08163940",
      "metadata": {
        "id": "08163940",
        "outputId": "d1804086-8728-4000-b8ab-f0fcdcec95d9"
      },
      "outputs": [
        {
          "data": {
            "image/png": "[encoded data removed]",
            "text/plain": [
              "<Figure size 432x288 with 1 Axes>"
            ]
          },
          "metadata": {
            "needs_background": "light"
          },
          "output_type": "display_data"
        }
      ],
      "source": [
        "# Plot the decision boundary plot\n",
        "sns.scatterplot(x=X_test['TotalWorkingYears'], y=X_test['MonthlyIncome'], hue=y_pred, alpha=0.5)\n",
        "sns.despine()\n",
        "plt.xlabel('Total Working Years')\n",
        "plt.ylabel('Monthly Income')\n",
        "plt.title('Decision Boundary Plot')\n",
        "plt.show()"
      ]
    },
    {
      "cell_type": "code",
      "execution_count": null,
      "id": "0b7ed795",
      "metadata": {
        "id": "0b7ed795"
      },
      "outputs": [],
      "source": []
    }
  ],
  "metadata": {
    "kernelspec": {
      "display_name": "Python 3 (ipykernel)",
      "language": "python",
      "name": "python3"
    },
    "language_info": {
      "codemirror_mode": {
        "name": "ipython",
        "version": 3
      },
      "file_extension": ".py",
      "mimetype": "text/x-python",
      "name": "python",
      "nbconvert_exporter": "python",
      "pygments_lexer": "ipython3",
      "version": "3.9.7"
    },
    "colab": {
      "provenance": []
    }
  },
  "nbformat": 4,
  "nbformat_minor": 5
}